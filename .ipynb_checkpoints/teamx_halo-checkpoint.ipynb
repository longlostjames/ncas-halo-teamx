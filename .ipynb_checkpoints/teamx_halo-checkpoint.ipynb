{
 "cells": [
  {
   "cell_type": "code",
   "execution_count": 13,
   "id": "d7f0e0af-f194-4666-b274-7dc9d743afbf",
   "metadata": {},
   "outputs": [],
   "source": [
    "import doppy\n",
    "import os\n",
    "import glob\n",
    "import netCDF4 as nc4\n",
    "\n",
    "teamx_halo_path = '/gws/pw/j07/ncas_obs_vol1/amf/raw_data/ncas-lidar-dop-1/incoming/20250603_teamx/Proc/'\n",
    "\n",
    "datestr = '20250624'\n",
    "yr = datestr[0:4];\n",
    "mo = datestr[0:6];\n",
    "\n",
    "datepath = os.path.join(teamx_halo_path,yr,mo,datestr);\n",
    "os.chdir(datepath)"
   ]
  },
  {
   "cell_type": "code",
   "execution_count": null,
   "id": "bf786147-d231-426e-9ff7-65cbc4cf7b69",
   "metadata": {},
   "outputs": [
    {
     "name": "stdout",
     "output_type": "stream",
     "text": [
      "['/gws/pw/j07/ncas_obs_vol1/amf/raw_data/ncas-lidar-dop-1/incoming/20250603_teamx/Proc/2025/202506/20250624/Stare_18_20250624_07.hpl', '/gws/pw/j07/ncas_obs_vol1/amf/raw_data/ncas-lidar-dop-1/incoming/20250603_teamx/Proc/2025/202506/20250624/Stare_18_20250624_09.hpl', '/gws/pw/j07/ncas_obs_vol1/amf/raw_data/ncas-lidar-dop-1/incoming/20250603_teamx/Proc/2025/202506/20250624/Stare_18_20250624_06.hpl', '/gws/pw/j07/ncas_obs_vol1/amf/raw_data/ncas-lidar-dop-1/incoming/20250603_teamx/Proc/2025/202506/20250624/Stare_18_20250624_10.hpl', '/gws/pw/j07/ncas_obs_vol1/amf/raw_data/ncas-lidar-dop-1/incoming/20250603_teamx/Proc/2025/202506/20250624/Stare_18_20250624_23.hpl', '/gws/pw/j07/ncas_obs_vol1/amf/raw_data/ncas-lidar-dop-1/incoming/20250603_teamx/Proc/2025/202506/20250624/Stare_18_20250624_16.hpl', '/gws/pw/j07/ncas_obs_vol1/amf/raw_data/ncas-lidar-dop-1/incoming/20250603_teamx/Proc/2025/202506/20250624/Stare_18_20250624_14.hpl', '/gws/pw/j07/ncas_obs_vol1/amf/raw_data/ncas-lidar-dop-1/incoming/20250603_teamx/Proc/2025/202506/20250624/Stare_18_20250624_08.hpl', '/gws/pw/j07/ncas_obs_vol1/amf/raw_data/ncas-lidar-dop-1/incoming/20250603_teamx/Proc/2025/202506/20250624/Stare_18_20250624_11.hpl', '/gws/pw/j07/ncas_obs_vol1/amf/raw_data/ncas-lidar-dop-1/incoming/20250603_teamx/Proc/2025/202506/20250624/Stare_18_20250624_15.hpl', '/gws/pw/j07/ncas_obs_vol1/amf/raw_data/ncas-lidar-dop-1/incoming/20250603_teamx/Proc/2025/202506/20250624/Stare_18_20250624_20.hpl', '/gws/pw/j07/ncas_obs_vol1/amf/raw_data/ncas-lidar-dop-1/incoming/20250603_teamx/Proc/2025/202506/20250624/Stare_18_20250624_22.hpl', '/gws/pw/j07/ncas_obs_vol1/amf/raw_data/ncas-lidar-dop-1/incoming/20250603_teamx/Proc/2025/202506/20250624/Stare_18_20250624_17.hpl', '/gws/pw/j07/ncas_obs_vol1/amf/raw_data/ncas-lidar-dop-1/incoming/20250603_teamx/Proc/2025/202506/20250624/Stare_18_20250624_21.hpl', '/gws/pw/j07/ncas_obs_vol1/amf/raw_data/ncas-lidar-dop-1/incoming/20250603_teamx/Proc/2025/202506/20250624/Stare_18_20250624_18.hpl', '/gws/pw/j07/ncas_obs_vol1/amf/raw_data/ncas-lidar-dop-1/incoming/20250603_teamx/Proc/2025/202506/20250624/Stare_18_20250624_19.hpl', '/gws/pw/j07/ncas_obs_vol1/amf/raw_data/ncas-lidar-dop-1/incoming/20250603_teamx/Proc/2025/202506/20250624/Stare_18_20250624_12.hpl', '/gws/pw/j07/ncas_obs_vol1/amf/raw_data/ncas-lidar-dop-1/incoming/20250603_teamx/Proc/2025/202506/20250624/Stare_18_20250624_13.hpl', '/gws/pw/j07/ncas_obs_vol1/amf/raw_data/ncas-lidar-dop-1/incoming/20250603_teamx/Proc/2025/202506/20250624/Stare_18_20250624_03.hpl', '/gws/pw/j07/ncas_obs_vol1/amf/raw_data/ncas-lidar-dop-1/incoming/20250603_teamx/Proc/2025/202506/20250624/Stare_18_20250624_00.hpl', '/gws/pw/j07/ncas_obs_vol1/amf/raw_data/ncas-lidar-dop-1/incoming/20250603_teamx/Proc/2025/202506/20250624/Stare_18_20250624_05.hpl', '/gws/pw/j07/ncas_obs_vol1/amf/raw_data/ncas-lidar-dop-1/incoming/20250603_teamx/Proc/2025/202506/20250624/Stare_18_20250624_04.hpl', '/gws/pw/j07/ncas_obs_vol1/amf/raw_data/ncas-lidar-dop-1/incoming/20250603_teamx/Proc/2025/202506/20250624/Stare_18_20250624_01.hpl', '/gws/pw/j07/ncas_obs_vol1/amf/raw_data/ncas-lidar-dop-1/incoming/20250603_teamx/Proc/2025/202506/20250624/Stare_18_20250624_02.hpl']\n",
      "['/gws/pw/j07/ncas_obs_vol1/amf/raw_data/ncas-lidar-dop-1/incoming/20250603_teamx/Proc/2025/202506/20250624/Background_240625-000013.txt', '/gws/pw/j07/ncas_obs_vol1/amf/raw_data/ncas-lidar-dop-1/incoming/20250603_teamx/Proc/2025/202506/20250624/Background_240625-010014.txt', '/gws/pw/j07/ncas_obs_vol1/amf/raw_data/ncas-lidar-dop-1/incoming/20250603_teamx/Proc/2025/202506/20250624/Background_240625-020014.txt', '/gws/pw/j07/ncas_obs_vol1/amf/raw_data/ncas-lidar-dop-1/incoming/20250603_teamx/Proc/2025/202506/20250624/Background_240625-030013.txt', '/gws/pw/j07/ncas_obs_vol1/amf/raw_data/ncas-lidar-dop-1/incoming/20250603_teamx/Proc/2025/202506/20250624/Background_240625-040014.txt', '/gws/pw/j07/ncas_obs_vol1/amf/raw_data/ncas-lidar-dop-1/incoming/20250603_teamx/Proc/2025/202506/20250624/Background_240625-050014.txt', '/gws/pw/j07/ncas_obs_vol1/amf/raw_data/ncas-lidar-dop-1/incoming/20250603_teamx/Proc/2025/202506/20250624/Background_240625-060013.txt', '/gws/pw/j07/ncas_obs_vol1/amf/raw_data/ncas-lidar-dop-1/incoming/20250603_teamx/Proc/2025/202506/20250624/Background_240625-080014.txt', '/gws/pw/j07/ncas_obs_vol1/amf/raw_data/ncas-lidar-dop-1/incoming/20250603_teamx/Proc/2025/202506/20250624/Background_240625-100013.txt', '/gws/pw/j07/ncas_obs_vol1/amf/raw_data/ncas-lidar-dop-1/incoming/20250603_teamx/Proc/2025/202506/20250624/Background_240625-090013.txt', '/gws/pw/j07/ncas_obs_vol1/amf/raw_data/ncas-lidar-dop-1/incoming/20250603_teamx/Proc/2025/202506/20250624/Background_240625-110014.txt', '/gws/pw/j07/ncas_obs_vol1/amf/raw_data/ncas-lidar-dop-1/incoming/20250603_teamx/Proc/2025/202506/20250624/Background_240625-120014.txt', '/gws/pw/j07/ncas_obs_vol1/amf/raw_data/ncas-lidar-dop-1/incoming/20250603_teamx/Proc/2025/202506/20250624/Background_240625-140014.txt', '/gws/pw/j07/ncas_obs_vol1/amf/raw_data/ncas-lidar-dop-1/incoming/20250603_teamx/Proc/2025/202506/20250624/Background_240625-160013.txt', '/gws/pw/j07/ncas_obs_vol1/amf/raw_data/ncas-lidar-dop-1/incoming/20250603_teamx/Proc/2025/202506/20250624/Background_240625-130014.txt', '/gws/pw/j07/ncas_obs_vol1/amf/raw_data/ncas-lidar-dop-1/incoming/20250603_teamx/Proc/2025/202506/20250624/Background_240625-150015.txt', '/gws/pw/j07/ncas_obs_vol1/amf/raw_data/ncas-lidar-dop-1/incoming/20250603_teamx/Proc/2025/202506/20250624/Background_240625-170014.txt', '/gws/pw/j07/ncas_obs_vol1/amf/raw_data/ncas-lidar-dop-1/incoming/20250603_teamx/Proc/2025/202506/20250624/Background_240625-180013.txt', '/gws/pw/j07/ncas_obs_vol1/amf/raw_data/ncas-lidar-dop-1/incoming/20250603_teamx/Proc/2025/202506/20250624/Background_240625-200014.txt', '/gws/pw/j07/ncas_obs_vol1/amf/raw_data/ncas-lidar-dop-1/incoming/20250603_teamx/Proc/2025/202506/20250624/Background_240625-190014.txt', '/gws/pw/j07/ncas_obs_vol1/amf/raw_data/ncas-lidar-dop-1/incoming/20250603_teamx/Proc/2025/202506/20250624/Background_240625-210015.txt', '/gws/pw/j07/ncas_obs_vol1/amf/raw_data/ncas-lidar-dop-1/incoming/20250603_teamx/Proc/2025/202506/20250624/Background_240625-070014.txt', '/gws/pw/j07/ncas_obs_vol1/amf/raw_data/ncas-lidar-dop-1/incoming/20250603_teamx/Proc/2025/202506/20250624/Background_240625-220014.txt', '/gws/pw/j07/ncas_obs_vol1/amf/raw_data/ncas-lidar-dop-1/incoming/20250603_teamx/Proc/2025/202506/20250624/Background_240625-230014.txt']\n"
     ]
    }
   ],
   "source": [
    "stare_files = [os.path.join(datepath,f) for f in glob.glob(f'Stare_18_{datestr}_*.hpl')];\n",
    "background_files = [os.path.join(datepath,f) for f in glob.glob(f'Background_*.txt')];\n",
    "print(stare_files);\n",
    "print(background_files);"
   ]
  },
  {
   "cell_type": "code",
   "execution_count": null,
   "id": "4545d023-a8ae-4558-908a-83761ed24eb8",
   "metadata": {},
   "outputs": [],
   "source": [
    "stare = doppy.product.Stare.from_halo_data(\n",
    "    data=stare_files,\n",
    "    data_bg=background_files,\n",
    "    bg_correction_method=doppy.options.BgCorrectionMethod.FIT,\n",
    ")"
   ]
  },
  {
   "cell_type": "code",
   "execution_count": 21,
   "id": "096ed188-06c1-4e5e-b3f0-5b90417dd2cb",
   "metadata": {},
   "outputs": [],
   "source": [
    "stare.write_to_netcdf('/home/users/cjwalden/git/halo-teamx/out1.nc')"
   ]
  },
  {
   "cell_type": "code",
   "execution_count": 7,
   "id": "594cfd59-c6b7-4f30-b24d-b6ee2c44da5c",
   "metadata": {},
   "outputs": [
    {
     "ename": "NameError",
     "evalue": "name 'pwd' is not defined",
     "output_type": "error",
     "traceback": [
      "\u001b[0;31m---------------------------------------------------------------------------\u001b[0m",
      "\u001b[0;31mNameError\u001b[0m                                 Traceback (most recent call last)",
      "Cell \u001b[0;32mIn[7], line 3\u001b[0m\n\u001b[1;32m      1\u001b[0m ncpath \u001b[38;5;241m=\u001b[39m \u001b[38;5;124m'\u001b[39m\u001b[38;5;124m/gws/pw/j07/ncas_obs_vol1/amf/processing/ncas-lidar-dop-1/20250603_teamx/doppy_processed\u001b[39m\u001b[38;5;124m'\u001b[39m\n\u001b[1;32m      2\u001b[0m os\u001b[38;5;241m.\u001b[39mchdir(ncpath);\n\u001b[0;32m----> 3\u001b[0m \u001b[43mpwd\u001b[49m\n",
      "\u001b[0;31mNameError\u001b[0m: name 'pwd' is not defined"
     ]
    }
   ],
   "source": [
    "ncpath = '/gws/pw/j07/ncas_obs_vol1/amf/processing/ncas-lidar-dop-1/20250603_teamx/doppy_processed'\n",
    "os.chdir(ncpath);"
   ]
  },
  {
   "cell_type": "code",
   "execution_count": 10,
   "id": "0d210c72-5231-47e8-8ff7-1716f6b9286a",
   "metadata": {},
   "outputs": [],
   "source": [
    "datestr='20250624'\n",
    "ncfile = [os.path.join(ncpath,f) for f in glob.glob(f'ncas-lidar-dop-1_{datestr}_stare_v1.0.nc')][0];\n"
   ]
  },
  {
   "cell_type": "code",
   "execution_count": 14,
   "id": "4129624c-70b6-4a4f-b52d-3244f80700dc",
   "metadata": {},
   "outputs": [
    {
     "name": "stdout",
     "output_type": "stream",
     "text": [
      "/gws/pw/j07/ncas_obs_vol1/amf/processing/ncas-lidar-dop-1/20250603_teamx/doppy_processed/ncas-lidar-dop-1_20250624_stare_v1.0.nc\n"
     ]
    }
   ],
   "source": [
    "print(ncfile)\n",
    "DS = nc4.Dataset(ncfile);"
   ]
  },
  {
   "cell_type": "code",
   "execution_count": 15,
   "id": "d2000cdf-dd3c-4f81-b826-a1be8a4ed5e7",
   "metadata": {},
   "outputs": [
    {
     "data": {
      "text/plain": [
       "<class 'netCDF4.Dataset'>\n",
       "root group (NETCDF4 data model, file format HDF5):\n",
       "    serial_number: 18\n",
       "    doppy_version: 0.5.4\n",
       "    dimensions(sizes): time(25796), range(3194)\n",
       "    variables(dimensions): float64 time(time), float32 range(range), float32 elevation(time), float32 beta_raw(time, range), float32 beta(time, range), float32 v(time, range), float32 wavelength(), uint32 pulses_per_ray()\n",
       "    groups: "
      ]
     },
     "execution_count": 15,
     "metadata": {},
     "output_type": "execute_result"
    }
   ],
   "source": []
  },
  {
   "cell_type": "code",
   "execution_count": null,
   "id": "9e62926d-5812-4d52-9705-35c0472484bc",
   "metadata": {},
   "outputs": [],
   "source": [
    "import matplotlib.pyplot as plt\n",
    "import cftime\n",
    "dtime = cftime.num2pydate(DS['time'][:],DS['time'].units)\n",
    "\n",
    "fig = plt.figure(figsize=(12,7));\n",
    "\n",
    "fig.subplots_adjust(hspace=0.5);\n",
    "\n",
    "import matplotlib.dates as mdates\n",
    "import matplotlib.gridspec as gridspec\n",
    "import cmocean\n",
    "\n",
    "import datetime\n",
    "\n",
    "ax1 = fig.add_subplot(211);\n",
    "ax2 = fig.add_subplot(212);\n",
    "\n",
    "hmax = 12;\n",
    "\n",
    "ax1.set_ylim(0,hmax);\n",
    "ax2.set_ylim(0,hmax);\n",
    "\n",
    "title_date = dtime[0].strftime(\"%d-%b-%Y\");\n",
    "\n",
    "myFmt = mdates.DateFormatter('%H:%M')\n",
    "\n",
    "plt.pcolor(dtime,DS['range'][0:500]/1000.,DS['v'][:,:500].T,vmin=-4,vmax=4,cmap='RdBu_r');\n",
    "ax1.xaxis.set_major_formatter(myFmt);\n",
    "h1=ax1.pcolormesh(dtime[:],DS['range'][:500]/1000.,DS['beta'][:,:500].transpose(),norm=colors.LogNorm(vmin=1e-7,vmax=1e-4),cmap='pyart_HomeyerRainbow',shading='auto');\n",
    "cb1=plt.colorbar(h1,ax=ax1,orientation='vertical')"
   ]
  }
 ],
 "metadata": {
  "kernelspec": {
   "display_name": "cao_3_11",
   "language": "python",
   "name": "cao_3_11"
  },
  "language_info": {
   "codemirror_mode": {
    "name": "ipython",
    "version": 3
   },
   "file_extension": ".py",
   "mimetype": "text/x-python",
   "name": "python",
   "nbconvert_exporter": "python",
   "pygments_lexer": "ipython3",
   "version": "3.11.11"
  }
 },
 "nbformat": 4,
 "nbformat_minor": 5
}
